{
 "cells": [
  {
   "cell_type": "markdown",
   "metadata": {
    "colab_type": "text",
    "id": "USdoQTkkAfiU"
   },
   "source": [
    "# 2020년 1학기 기말시험"
   ]
  },
  {
   "cell_type": "markdown",
   "metadata": {
    "colab_type": "text",
    "id": "Yg0l6Iz-NbQX"
   },
   "source": [
    "# 이름 : 권기주"
   ]
  },
  {
   "cell_type": "markdown",
   "metadata": {
    "colab_type": "text",
    "id": "dde2pQdBKaXE"
   },
   "source": [
    "https://colab.research.google.com/에 import하여 셀에 답을 적고 RUN하십시오. 출력한 결과에 따라 스코어링됩니다."
   ]
  },
  {
   "cell_type": "markdown",
   "metadata": {
    "colab_type": "text",
    "id": "vytowRjHlN1F"
   },
   "source": [
    "Q1. CNN 신경망에서 2D 컨볼루션 레이어를 거친 행렬의 값을 파이썬 array형태로 적으시오. 계산을 위해 계산기앱 또는 액셀을 사용해도 좋습니다.\n"
   ]
  },
  {
   "cell_type": "code",
   "execution_count": 1,
   "metadata": {
    "colab": {},
    "colab_type": "code",
    "id": "vO3cm719mB64"
   },
   "outputs": [
    {
     "ename": "SyntaxError",
     "evalue": "invalid syntax (<ipython-input-1-76d1ec6c9978>, line 13)",
     "output_type": "error",
     "traceback": [
      "\u001b[0;36m  File \u001b[0;32m\"<ipython-input-1-76d1ec6c9978>\"\u001b[0;36m, line \u001b[0;32m13\u001b[0m\n\u001b[0;31m    y=   # 여러분의 answer를 파이썬 어레이로 적고 Run하시오.\u001b[0m\n\u001b[0m                                           ^\u001b[0m\n\u001b[0;31mSyntaxError\u001b[0m\u001b[0;31m:\u001b[0m invalid syntax\n"
     ]
    }
   ],
   "source": [
    "\"\"\" 문제\n",
    "x = [[1,2,3],\n",
    "     [4,5,6],\n",
    "     [7,8,9]]\n",
    "     \n",
    "kernel W =[[0,1],\n",
    "          [1,0]]\n",
    "\n",
    "Padding = VALID\n",
    "\n",
    "convolution을 한 결과를 행렬 y로 하여 print(y)로 출력하시오.\n",
    "\"\"\"\n",
    "y=\n",
    "print(y)"
   ]
  },
  {
   "cell_type": "markdown",
   "metadata": {
    "colab_type": "text",
    "id": "ntyM0f5Rgq5t"
   },
   "source": [
    "Q2, 아래의 Confusion Matrix를 보고 질문에 답하시오"
   ]
  },
  {
   "cell_type": "code",
   "execution_count": 0,
   "metadata": {
    "colab": {
     "base_uri": "https://localhost:8080/",
     "height": 278
    },
    "colab_type": "code",
    "id": "cjqJY4QkYg55",
    "outputId": "86a184ad-d996-4321-c95f-ad3156b74b73"
   },
   "outputs": [
    {
     "data": {
      "image/png": "[encoded data removed]",
      "text/plain": [
       "<Figure size 432x288 with 2 Axes>"
      ]
     },
     "metadata": {
      "tags": []
     },
     "output_type": "display_data"
    }
   ],
   "source": [
    "# 문제 : 아래의 혼동행렬을 보고 TPR과 FNR을 계산하시오. 단 계산하는 공식을 파이썬으로 코딩하여 값을 구하시오.\n",
    "# 혼동행렬의 row는 실제값, column은 예측값, (1,1)이 True & Positive\n",
    "# 정의 : TPR = True Postive rate, FNR = False Negative rate\n",
    "import seaborn as sn\n",
    "import pandas as pd\n",
    "import matplotlib.pyplot as plt\n",
    "import numpy as np\n",
    "\n",
    "array = np.array([[850,6],\n",
    "                  [50,94]])         \n",
    "\n",
    "sn.set(font_scale=2.0) # for label size\n",
    "sn.heatmap(array, annot=True, annot_kws={\"size\": 18}, fmt='d') # font size\n",
    "\n",
    "plt.show()"
   ]
  },
  {
   "cell_type": "code",
   "execution_count": 0,
   "metadata": {
    "colab": {
     "base_uri": "https://localhost:8080/",
     "height": 34
    },
    "colab_type": "code",
    "id": "1cwqB8OwUa36",
    "outputId": "5d881bdb-1d63-4f6d-e573-0c4785030dd9"
   },
   "outputs": [
    {
     "name": "stdout",
     "output_type": "stream",
     "text": [
      "TPR깂은  0.94\n"
     ]
    }
   ],
   "source": [
    "# Q2.1 TPR=?  아래에 계산식을 쓰고 Run 시키시오\n",
    "# 여러분의 코드 \n",
    "array = np.array(array)\n",
    "tpr=array[1,1]/(array[0,1]+array[1,1])\n",
    "print(\"TPR = TP/(FN+TP)\", tpr)"
   ]
  },
  {
   "cell_type": "code",
   "execution_count": null,
   "metadata": {
    "colab": {},
    "colab_type": "code",
    "id": "BzOe-Zgqkgdc"
   },
   "outputs": [],
   "source": [
    "# Q2.2 FNR 계산을 위한 코드를 쓰고  Run하시오\n",
    "# 여러분의 코드 \n",
    "array = np.array(array)\n",
    "fnr=array[0,1]/(array[1,1]+array[0,1])\n",
    "print(\"FNR = FN(TP+FN)\", fnr)"
   ]
  },
  {
   "cell_type": "code",
   "execution_count": 0,
   "metadata": {
    "colab": {},
    "colab_type": "code",
    "id": "TK_zjLxMEiVM"
   },
   "outputs": [],
   "source": [
    "#  Q2.3 accurary 계산을 위한 코드를 쓰고  Run하시오\n",
    "# 여러분의 코드\n",
    "array = np.array(array)\n",
    "acc=(array[1,1] + array[0,0]/(array[1,1]+array[0,0]+array[1,0]+array[0,1])\n",
    "print(\"ACC = (TP+TN)/(TP+TN+FP+FN)\", acc)"
   ]
  },
  {
   "cell_type": "markdown",
   "metadata": {
    "colab_type": "text",
    "id": "yukDPytdDmt7"
   },
   "source": [
    "\n",
    "Q3. 다음 신경망 다이어그램을 보고 이를 구현하기 위한 파이썬 코드를 완성하시오"
   ]
  },
  {
   "cell_type": "code",
   "execution_count": 2,
   "metadata": {
    "colab": {
     "base_uri": "https://localhost:8080/",
     "height": 538
    },
    "colab_type": "code",
    "id": "dbbSoyMeINdZ",
    "outputId": "a170a528-4b97-4192-eed7-f24e7cb1de22"
   },
   "outputs": [
    {
     "name": "stdout",
     "output_type": "stream",
     "text": [
      "--2020-06-10 04:26:42--  https://docs.google.com/uc?export=download&id=1jGQthuWngRlgUq7masWosTq1LyzwUAS7\n",
      "Resolving docs.google.com (docs.google.com)... 172.217.14.174, 2607:f8b0:4000:816::200e\n",
      "Connecting to docs.google.com (docs.google.com)|172.217.14.174|:443... connected.\n",
      "HTTP request sent, awaiting response... 302 Moved Temporarily\n",
      "Location: https://doc-0s-1s-docs.googleusercontent.com/docs/securesc/ha0ro937gcuc7l7deffksulhg5h7mbp1/te8q796h5f64p0arv69aarqj4irtvm2d/1591763175000/04591858293269658552/*/1jGQthuWngRlgUq7masWosTq1LyzwUAS7?e=download [following]\n",
      "Warning: wildcards not supported in HTTP.\n",
      "--2020-06-10 04:26:43--  https://doc-0s-1s-docs.googleusercontent.com/docs/securesc/ha0ro937gcuc7l7deffksulhg5h7mbp1/te8q796h5f64p0arv69aarqj4irtvm2d/1591763175000/04591858293269658552/*/1jGQthuWngRlgUq7masWosTq1LyzwUAS7?e=download\n",
      "Resolving doc-0s-1s-docs.googleusercontent.com (doc-0s-1s-docs.googleusercontent.com)... 216.58.193.129, 2607:f8b0:4000:812::2001\n",
      "Connecting to doc-0s-1s-docs.googleusercontent.com (doc-0s-1s-docs.googleusercontent.com)|216.58.193.129|:443... connected.\n",
      "HTTP request sent, awaiting response... 200 OK\n",
      "Length: 18076 (18K) [image/png]\n",
      "Saving to: ‘퍼셉트론.png’\n",
      "\n",
      "100%[======================================>] 18,076      --.-K/s   in 0.001s  \n",
      "\n",
      "2020-06-10 04:26:43 (17.7 MB/s) - ‘퍼셉트론.png’ saved [18076/18076]\n",
      "\n"
     ]
    },
    {
     "data": {
      "image/png": "[encoded data removed]",
      "text/plain": [
       "<IPython.core.display.Image object>"
      ]
     },
     "execution_count": 2,
     "metadata": {
      "image/png": {
       "width": 500
      }
     },
     "output_type": "execute_result"
    }
   ],
   "source": [
    "! wget --no-check-certificate 'https://docs.google.com/uc?export=download&id=1jGQthuWngRlgUq7masWosTq1LyzwUAS7' -O 퍼셉트론.png\n",
    "from IPython.display import Image\n",
    "Image(\"퍼셉트론.png\", width=500)  "
   ]
  },
  {
   "cell_type": "code",
   "execution_count": 0,
   "metadata": {
    "colab": {},
    "colab_type": "code",
    "id": "wN6S1IvUt6jH"
   },
   "outputs": [],
   "source": [
    "#Q3. 위의 그림에 맞는 신경망을 코드로 설계하시오.\n",
    "\n",
    "n =4\n",
    "n_inputs = n\n",
    "n_hidden = n \n",
    "n_outputs = 2  \n",
    "X=tf.placeholder(tf.float64, shape=(None, n_inputs), name='X') # ?을 채우시오\n",
    "with tf.name_scope('nn'):\n",
    "hidden1 = make_nn_layer('hidden',n_hidden1 , X, activation=tf.nn.relu) # ?을 채우시오\n",
    "outputs = make_nn_layer('outputs', n_outputs, hidden1) # ?을 채우시오\n"
   ]
  },
  {
   "cell_type": "markdown",
   "metadata": {
    "colab_type": "text",
    "id": "lZg0CU3IEoG-"
   },
   "source": [
    "Q4. 아래의 표를 보고 Keras 코드를 완성하시오\n"
   ]
  },
  {
   "cell_type": "code",
   "execution_count": 0,
   "metadata": {
    "colab": {
     "base_uri": "https://localhost:8080/",
     "height": 54
    },
    "colab_type": "code",
    "id": "e78Ut02SEs6q",
    "outputId": "a6d3238d-7251-402d-a89c-91f02bd3a66e"
   },
   "outputs": [
    {
     "data": {
      "text/plain": [
       "'\\nLayer (type)                 Output Shape              Param #   \\n=================================================================\\nconv2d_6 (Conv2D)            (None, 24, 24, 32)        832       \\n_________________________________________________________________\\nmax_pooling2d_5 (MaxPooling2 (None, 12, 12, 32)        0         \\n_________________________________________________________________\\ndropout_6 (Dropout)          (None, 12, 12, 32)        0         \\n_________________________________________________________________\\nconv2d_7 (Conv2D)            (None, 10, 10, 64)        18496     \\n_________________________________________________________________\\nmax_pooling2d_6 (MaxPooling2 (None, 5, 5, 64)          0         \\n_________________________________________________________________\\ndropout_7 (Dropout)          (None, 5, 5, 64)          0         \\n_________________________________________________________________\\nconv2d_8 (Conv2D)            (None, 5, 5, 128)         8320      \\n_________________________________________________________________\\nmax_pooling2d_7 (MaxPooling2 (None, 2, 2, 128)         0         \\n_________________________________________________________________\\ndropout_8 (Dropout)          (None, 2, 2, 128)         0         \\n_________________________________________________________________\\nflatten_3 (Flatten)          (None, 512)               0         \\n_________________________________________________________________\\ndense_5 (Dense)              (None, 128)               65664     \\n_________________________________________________________________\\ndense_6 (Dense)              (None, 10)                1290      \\n=================================================================\\n\\n'"
      ]
     },
     "execution_count": 1,
     "metadata": {
      "tags": []
     },
     "output_type": "execute_result"
    }
   ],
   "source": [
    "#Q4 표\n",
    "\"\"\"\n",
    "Layer (type)                 Output Shape              Param #   \n",
    "=================================================================\n",
    "conv2d_6 (Conv2D)            (None, 24, 24, 32)        832       \n",
    "_________________________________________________________________\n",
    "max_pooling2d_5 (MaxPooling2 (None, 12, 12, 32)        0         \n",
    "_________________________________________________________________\n",
    "dropout_6 (Dropout)          (None, 12, 12, 32)        0         \n",
    "_________________________________________________________________\n",
    "conv2d_7 (Conv2D)            (None, 10, 10, 64)        18496     \n",
    "_________________________________________________________________\n",
    "max_pooling2d_6 (MaxPooling2 (None, 5, 5, 64)          0         \n",
    "_________________________________________________________________\n",
    "dropout_7 (Dropout)          (None, 5, 5, 64)          0         \n",
    "_________________________________________________________________\n",
    "conv2d_8 (Conv2D)            (None, 5, 5, 128)         8320      \n",
    "_________________________________________________________________\n",
    "max_pooling2d_7 (MaxPooling2 (None, 2, 2, 128)         0         \n",
    "_________________________________________________________________\n",
    "dropout_8 (Dropout)          (None, 2, 2, 128)         0         \n",
    "_________________________________________________________________\n",
    "flatten_3 (Flatten)          (None, 512)               0         \n",
    "_________________________________________________________________\n",
    "dense_5 (Dense)              (None, 128)               65664     \n",
    "_________________________________________________________________\n",
    "dense_6 (Dense)              (None, 10)                1290      \n",
    "=================================================================\n",
    "\n",
    "\"\"\""
   ]
  },
  {
   "cell_type": "code",
   "execution_count": 0,
   "metadata": {
    "colab": {},
    "colab_type": "code",
    "id": "c2RTLEClGqlC"
   },
   "outputs": [],
   "source": [
    "# Q4. 이곳에 위의 표에 맞는 딥러닝의 모델을 Keras로 코딩하십시오. 모델 부문만 작성하고 마지막에 print로 summary를 출력하십시오.\n",
    "# 가정 1 : input은 24 x 24의 흑백 이미지\n",
    "# 가정 2 : convolution layer에서 사용하는 activation function은 ReLU로 통일 \n",
    "# 가정 3 : maxpooling 시 pool_size는 2 x 2\n",
    "# 가정 4 : dropout rate는 0.5\n",
    "# 가정 5 : dense_5 layer에서 사용하는 activation function은 ReLU\n",
    "# 가정 6 : dense_6 layer에서 사용하는 activation function은 softmax\n",
    "import keras\n",
    "from keras.models import Sequential\n",
    "from keras.layers import Dense, Dropout, Flatten\n",
    "from keras.layers import Conv2D, MaxPooling2D\n",
    "from keras import backend as K\n",
    "\n",
    "mymodel = Sequential()\n",
    "\n",
    "\n",
    "    mymodel.add(Conv2D(32, kernel_size=(3, 3),activation='relu',padding='same',input_shape=(24,24,1)))\n",
    "    mymodel.add(MaxPooling2D((2, 2),padding='same'))\n",
    "    mymodel.add(Dropout(0.5))\n",
    "    mymodel.add(Conv2D(64, (3, 3), activation='relu',padding='same'))\n",
    "    mymodel.add(MaxPooling2D(pool_size=(2, 2),padding='same'))\n",
    "    mymodel.add(Dropout(0.5))\n",
    "    mymodel.add(Conv2D(128, (3, 3), activation='relu',padding='same'))                 \n",
    "    mymodel.add(MaxPooling2D(pool_size=(2, 2),padding='same'))\n",
    "    mymodel.add(Dropout(0.5))\n",
    "    mymodel.add(Flatten())\n",
    "    mymodel.add(Dense(128, activation='relu'))\n",
    "    mymodel.add(Dense(10, activation='softmax'))\n",
    "\n",
    "\n",
    "\n",
    "\n",
    "\n",
    "\n",
    "\n",
    "\n",
    "print(mymodel.summary())\n",
    "# The End"
   ]
  },
  {
   "cell_type": "markdown",
   "metadata": {
    "colab_type": "text",
    "id": "k6z0l1F6d_SU"
   },
   "source": [
    "Q5. 아래  코드가 출력하는 그래프에서 validation loss 값이 모든 epoch 구간에서 training loss 값보다 작도록  코드를 수정하시오. 현재의 그래프는 최적 상태가 아닙니다."
   ]
  },
  {
   "cell_type": "code",
   "execution_count": null,
   "metadata": {
    "colab": {
     "base_uri": "https://localhost:8080/",
     "height": 1000
    },
    "colab_type": "code",
    "id": "_3uvk7IVeIZs",
    "outputId": "b09c22ed-6aad-4d4a-f95d-d76389993998"
   },
   "outputs": [
    {
     "data": {
      "image/png": "[encoded data removed]",
      "text/plain": [
       "<Figure size 432x288 with 1 Axes>"
      ]
     },
     "metadata": {},
     "output_type": "display_data"
    },
    {
     "name": "stdout",
     "output_type": "stream",
     "text": [
      "_________________________________________________________________\n",
      "Layer (type)                 Output Shape              Param #   \n",
      "=================================================================\n",
      "flatten_4 (Flatten)          (None, 784)               0         \n",
      "_________________________________________________________________\n",
      "dense_10 (Dense)             (None, 128)               100480    \n",
      "_________________________________________________________________\n",
      "activation_10 (Activation)   (None, 128)               0         \n",
      "_________________________________________________________________\n",
      "dense_11 (Dense)             (None, 128)               16512     \n",
      "_________________________________________________________________\n",
      "activation_11 (Activation)   (None, 128)               0         \n",
      "_________________________________________________________________\n",
      "dense_12 (Dense)             (None, 10)                1290      \n",
      "_________________________________________________________________\n",
      "activation_12 (Activation)   (None, 10)                0         \n",
      "=================================================================\n",
      "Total params: 118,282\n",
      "Trainable params: 118,282\n",
      "Non-trainable params: 0\n",
      "_________________________________________________________________\n",
      "Train on 54000 samples, validate on 6000 samples\n",
      "Epoch 1/10\n",
      "54000/54000 [==============================] - 59s 1ms/step - loss: 0.2777 - acc: 0.9171 - val_loss: 0.1193 - val_acc: 0.9663\n",
      "Epoch 2/10\n",
      "54000/54000 [==============================] - 65s 1ms/step - loss: 0.1132 - acc: 0.9657 - val_loss: 0.1085 - val_acc: 0.9672\n",
      "Epoch 3/10\n",
      "54000/54000 [==============================] - 65s 1ms/step - loss: 0.0769 - acc: 0.9754 - val_loss: 0.0836 - val_acc: 0.9758\n",
      "Epoch 4/10\n",
      "54000/54000 [==============================] - 63s 1ms/step - loss: 0.0540 - acc: 0.9828 - val_loss: 0.0963 - val_acc: 0.9748\n",
      "Epoch 5/10\n",
      "54000/54000 [==============================] - 48s 883us/step - loss: 0.0413 - acc: 0.9868 - val_loss: 0.0814 - val_acc: 0.9792\n",
      "Epoch 6/10\n",
      "54000/54000 [==============================] - 59s 1ms/step - loss: 0.0328 - acc: 0.9893 - val_loss: 0.0969 - val_acc: 0.9753\n",
      "Epoch 7/10\n",
      "54000/54000 [==============================] - 59s 1ms/step - loss: 0.0246 - acc: 0.9918 - val_loss: 0.0848 - val_acc: 0.9795\n",
      "Epoch 8/10\n",
      "30176/54000 [===============>..............] - ETA: 18s - loss: 0.0207 - acc: 0.9931"
     ]
    }
   ],
   "source": [
    "from keras.datasets import mnist\n",
    "from matplotlib import pyplot as plt\n",
    "plt.style.use('dark_background')\n",
    "from keras.models import Sequential\n",
    "from keras.layers import Dense, Flatten, Activation, Dropout\n",
    "from keras.utils import normalize, to_categorical\n",
    "\n",
    "(X_train, y_train), (X_test, y_test) = mnist.load_data()\n",
    "\n",
    "plt.imshow(X_train[0], cmap = plt.cm.binary)\n",
    "plt.show()\n",
    "\n",
    "X_train = normalize(X_train, axis=1)\n",
    "X_test = normalize(X_test, axis=1)\n",
    "y_train = to_categorical(y_train)\n",
    "y_test = to_categorical(y_test)\n",
    "\n",
    "model = Sequential()\n",
    "model.add(Flatten(input_shape=(28, 28)))\n",
    "model.add(Dense(128))\n",
    "model.add(Activation('relu'))\n",
    "model.add(Dense(128))\n",
    "model.add(Activation('relu'))\n",
    "model.add(Dense(10))\n",
    "model.add(Activation('softmax'))\n",
    "model.summary()\n",
    "\n",
    "model.compile(\n",
    "    loss='categorical_crossentropy',\n",
    "    optimizer='adam',\n",
    "    metrics=['accuracy']\n",
    ")\n",
    "history = model.fit(\n",
    "    X_train,\n",
    "    y_train,\n",
    "    epochs=10,\n",
    "    batch_size=32,\n",
    "    validation_split=0.3,\n",
    "    verbose = 1,\n",
    "    shuffle=True\n",
    ")\n",
    "\n",
    "loss = history.history['loss']\n",
    "val_loss = history.history['val_loss']\n",
    "epochs = range(1, len(loss) + 1)\n",
    "plt.plot(epochs, loss, 'y', label='Training loss')\n",
    "plt.plot(epochs, val_loss, 'r', label='Validation loss')\n",
    "plt.title('Training and validation loss')\n",
    "plt.xlabel('Epochs')\n",
    "plt.ylabel('Loss')\n",
    "plt.legend()\n",
    "plt.show()"
   ]
  },
  {
   "cell_type": "markdown",
   "metadata": {
    "colab_type": "text",
    "id": "o176gKn3yL-O"
   },
   "source": [
    "Q6. Mini-batch size & Learning Rate 튜닝"
   ]
  },
  {
   "cell_type": "code",
   "execution_count": 0,
   "metadata": {
    "colab": {},
    "colab_type": "code",
    "id": "achHRPhwHPF3"
   },
   "outputs": [],
   "source": [
    "# mlp for the blobs problem with minibatch gradient descent with varied batch size\n",
    "# 아래의 코드에서 다음 두 개의 파라미터를 조합하여 최고의 모델링 성능을 내고 그 결과를 print()로 출력하십시오.\n",
    "# 튜닝할 파라미터 : batch_size & lr (각각 3가지의 옵션이 있으므로 두 파라미터를 조합할 수 있는 경우의 수는 모두 9가지)\n",
    "# 모델의 성능 평가 기준은 다음의 우선순위에 따라 결정하시오. \n",
    "# 1. Validation Loss가 최소, 2. Accuracy는 최고값에 가까울 것\n",
    "# 9번의 실험 후 최적이라고 생각되는 파라미터 값을 코드에 지정하고 셀을 다시 run하여 최종 결과를 출력하시오.\n",
    "%%time\n",
    "from sklearn.datasets import make_blobs\n",
    "from keras.layers import Dense\n",
    "from keras.models import Sequential\n",
    "from keras.optimizers import SGD\n",
    "from keras.utils import to_categorical\n",
    "from matplotlib import pyplot\n",
    "\n",
    "# prepare train and test dataset\n",
    "def prepare_data():\n",
    "\t# generate 2d classification dataset\n",
    "\tX, y = make_blobs(n_samples=1000, centers=3, n_features=2, cluster_std=2, random_state=2)\n",
    "\t# one hot encode output variable\n",
    "\ty = to_categorical(y)\n",
    "\t# split into train and test\n",
    "\tn_train = 500\n",
    "\ttrainX, testX = X[:n_train, :], X[n_train:, :]\n",
    "\ttrainy, testy = y[:n_train], y[n_train:]\n",
    "\treturn trainX, trainy, testX, testy\n",
    "\n",
    "# fit a model and plot learning curve\n",
    "def fit_model(trainX, trainy, testX, testy, n_batch):\n",
    "\t\n",
    "  # define model\n",
    "\tmodel = Sequential()\n",
    "\tmodel.add(Dense(50, input_dim=2, activation='relu', kernel_initializer='he_uniform'))\n",
    "\tmodel.add(Dense(3, activation='softmax'))\n",
    "\t\n",
    "  # lr의 값을  0.1, 0.01, 0.001 중에서 선택하여 이곳에 지정\n",
    "\topt = SGD(lr=your_lr, momentum=0.9) \n",
    "\tmodel.compile(loss='categorical_crossentropy', optimizer=opt, metrics=['accuracy'])\n",
    "\t# fit model\n",
    "\thistory = model.fit(trainX, trainy, validation_data=(testX, testy), epochs=150, verbose=2, batch_size=n_batch)\n",
    "\tprint('accuracy = ', format(history.history['accuracy'][149],\".3f\"), ' ', 'validation loss = ', format(history.history['val_loss'][149],\".3f\"))\n",
    "  # plot learning curves\n",
    "\tpyplot.plot(history.history['accuracy'], label='train')\n",
    "\tpyplot.plot(history.history['val_loss'], label='test')\n",
    "\tpyplot.title('batch='+str(n_batch), pad=-40)\n",
    "\n",
    "\n",
    "\n",
    "# prepare dataset\n",
    "trainX, trainy, testX, testy = prepare_data()\n",
    "\n",
    "# batch_size의 값을   16, 32, 64 중에서 선택하여 이곳에 지정\n",
    "batch_size = your_batch_size\n",
    "\n",
    "fit_model(trainX, trainy, testX, testy, batch_size)\n",
    "# show learning curves\n",
    "pyplot.show()\n",
    "\n",
    "# 결과를 메모장에 적어놓고 lr과 batch_size를 바꿔가며 최적의 파라미터를 찾아가시오.\n",
    "# 최적의 lr과 batch_size를 선택하여 위의 코드에 적고 Run한 결과룰 출력하여 제출하시오. "
   ]
  },
  {
   "cell_type": "markdown",
   "metadata": {
    "colab_type": "text",
    "id": "U7B16qvfgODH"
   },
   "source": [
    "Q7 . RNN 문장 생성기\n"
   ]
  },
  {
   "cell_type": "code",
   "execution_count": 0,
   "metadata": {
    "colab": {},
    "colab_type": "code",
    "id": "_2DqrQtH9Itp"
   },
   "outputs": [],
   "source": [
    "# 다음의 코드를 완성하시오\n",
    "from tensorflow.keras.preprocessing.text import Tokenizer\n",
    "from tensorflow.keras.preprocessing.sequence import pad_sequences\n",
    "import numpy as np\n",
    "from tensorflow.keras.utils import to_categorical\n",
    "\n",
    "text=\"\"\"특히 최근 수도권에서는 교회 소모임 참석자에 이어 이들 가족과 지인으로 번지는 2차 감염 사례가 증가하고 있습니다. 중앙재난안전대책본부는 오늘까지 수도권 교회와 관련한 코로나19 확진자는 총 63명이라고 밝혔으며  2차 감염자는 33명 이라고 전했습니다. \"\"\"\n",
    "\n",
    "\n",
    "t = Tokenizer()\n",
    "t.fit_on_texts([text])\n",
    "vocab_size = len(t.word_index) + 1\n",
    "print('단어 집합의 크기 : %d' % vocab_size)\n",
    "\n",
    "\n",
    "print(t.word_index)\n",
    "\n",
    "sequences = list()\n",
    "for line in text.split('\\n'): \n",
    "    encoded = t.texts_to_sequences([line])[0]\n",
    "    for i in range(1, len(encoded)):\n",
    "        sequence = encoded[:i+1]\n",
    "        sequences.append(sequence)\n",
    "\n",
    "print('학습에 사용할 샘플의 개수: %d' % len(sequences))\n",
    "\n",
    "\n",
    "max_len=max(len(l) for l in sequences) \n",
    "\n",
    "sequences = pad_sequences(sequences, maxlen=max_len, padding='pre')\n",
    "\n",
    "sequences = np.array(sequences)\n",
    "X = sequences[:,:-1]\n",
    "y = sequences[:,-1]\n",
    "\n",
    "\n",
    "from tensorflow.keras.models import Sequential\n",
    "from tensorflow.keras.layers import Embedding, Dense, SimpleRNN\n",
    "\n",
    "model = Sequential()\n",
    "model.add(Embedding(vocab_size, 10, input_length=max_len-1))  \n",
    "model.add(SimpleRNN(32))\n",
    "model.add(Dense(vocab_size, activation='softmax'))\n",
    "model.compile(loss='sparse_categorical_crossentropy', optimizer='adam', metrics=['accuracy'])\n",
    "model.fit(X, y, epochs=120, verbose=2)\n",
    "\n",
    "# 이 블록에서 yoou_code_here 부분을 완성하시오\n",
    "def sentence_generation(model, t, current_word, n): # model = 모델, t = 토크나이저, current_word = 현재 단어, n = 반복할 횟수\n",
    "    init_word = current_word # 처음 들어온 단어도 마지막에 같이 출력하기위해 저장\n",
    "    sentence = ''\n",
    "    for _ in range(n): # n번 반복\n",
    "        encoded = t.texts_to_sequences([current_word])[0] # 현재 단어에 대한 정수 인코딩\n",
    "        encoded = pad_sequences([encoded], maxlen=30, padding='pre') # 데이터에 대한 패딩\n",
    "        result = np.argmax(model.predict(encoded), axis=-1)\n",
    "        for word, index in t.word_index.items(): \n",
    "            if index == result: # 만약 예측한 단어의 인덱스 값이 동일한 단어가 있다면\n",
    "                break # 해당 단어가 예측 단어이므로 break\n",
    "        current_word = your_code_here # 현재 단어 + ' ' + 예측한 단어를 current_word로 저장\n",
    "        sentence = your_code_here  # 예측한 단어를 sentence에 append\n",
    "     \n",
    "    sentence = your_code_here # 초기의 텍스트와 for loop에서 생성된 텍스트를 concatenate\n",
    "    return sentence\n",
    "\n",
    "print(sentence_generation(model, t, '특히', 10))"
   ]
  },
  {
   "cell_type": "markdown",
   "metadata": {
    "colab_type": "text",
    "id": "Q_ZqqZcvN1PQ"
   },
   "source": [
    "## 20년1학기-기말고사-yourname.ipynb로 다운로드한 후 제출하십시오.\n",
    "수고하였습니다!"
   ]
  }
 ],
 "metadata": {
  "colab": {
   "collapsed_sections": [],
   "name": "20년1학기-기말고사.ipynb의 사본",
   "provenance": []
  },
  "kernelspec": {
   "display_name": "Python 3.6",
   "language": "python",
   "name": "python3"
  },
  "language_info": {
   "codemirror_mode": {
    "name": "ipython",
    "version": 3
   },
   "file_extension": ".py",
   "mimetype": "text/x-python",
   "name": "python",
   "nbconvert_exporter": "python",
   "pygments_lexer": "ipython3",
   "version": "3.6.9"
  }
 },
 "nbformat": 4,
 "nbformat_minor": 1
}
