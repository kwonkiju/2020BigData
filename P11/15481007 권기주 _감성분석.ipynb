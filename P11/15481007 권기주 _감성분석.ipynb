{
 "cells": [
  {
   "cell_type": "code",
   "execution_count": 1,
   "metadata": {},
   "outputs": [
    {
     "name": "stdout",
     "output_type": "stream",
     "text": [
      "Requirement already satisfied: ibm_watson in /opt/conda/envs/Python36/lib/python3.6/site-packages (4.5.0)\n",
      "Requirement already satisfied: requests<3.0,>=2.0 in /opt/conda/envs/Python36/lib/python3.6/site-packages (from ibm_watson) (2.21.0)\n",
      "Requirement already satisfied: python-dateutil>=2.5.3 in /opt/conda/envs/Python36/lib/python3.6/site-packages (from ibm_watson) (2.7.5)\n",
      "Requirement already satisfied: ibm-cloud-sdk-core==1.5.1 in /opt/conda/envs/Python36/lib/python3.6/site-packages (from ibm_watson) (1.5.1)\n",
      "Requirement already satisfied: websocket-client==0.48.0 in /opt/conda/envs/Python36/lib/python3.6/site-packages (from ibm_watson) (0.48.0)\n",
      "Requirement already satisfied: certifi>=2017.4.17 in /opt/conda/envs/Python36/lib/python3.6/site-packages (from requests<3.0,>=2.0->ibm_watson) (2020.4.5.1)\n",
      "Requirement already satisfied: chardet<3.1.0,>=3.0.2 in /opt/conda/envs/Python36/lib/python3.6/site-packages (from requests<3.0,>=2.0->ibm_watson) (3.0.4)\n",
      "Requirement already satisfied: idna<2.9,>=2.5 in /opt/conda/envs/Python36/lib/python3.6/site-packages (from requests<3.0,>=2.0->ibm_watson) (2.8)\n",
      "Requirement already satisfied: urllib3<1.25,>=1.21.1 in /opt/conda/envs/Python36/lib/python3.6/site-packages (from requests<3.0,>=2.0->ibm_watson) (1.24.1)\n",
      "Requirement already satisfied: six>=1.5 in /opt/conda/envs/Python36/lib/python3.6/site-packages (from python-dateutil>=2.5.3->ibm_watson) (1.12.0)\n",
      "Requirement already satisfied: PyJWT>=1.7.1 in /opt/conda/envs/Python36/lib/python3.6/site-packages (from ibm-cloud-sdk-core==1.5.1->ibm_watson) (1.7.1)\n"
     ]
    }
   ],
   "source": [
    "! pip install ibm_watson"
   ]
  },
  {
   "cell_type": "code",
   "execution_count": 2,
   "metadata": {},
   "outputs": [],
   "source": [
    "import json\n",
    "from ibm_watson import ToneAnalyzerV3\n",
    "from ibm_cloud_sdk_core.authenticators import IAMAuthenticator\n",
    "\n",
    "authenticator = IAMAuthenticator('RJNj8TRDTIjRIwcHvz74916IvO_i3tNK3NLkB04TPurC')\n",
    "tone_analyzer = ToneAnalyzerV3(\n",
    "    version='2017-09-21',\n",
    "    authenticator=authenticator\n",
    ")\n",
    "tone_analyzer.set_service_url('https://gateway.watsonplatform.net/tone-analyzer/api')"
   ]
  },
  {
   "cell_type": "code",
   "execution_count": 3,
   "metadata": {},
   "outputs": [
    {
     "name": "stdout",
     "output_type": "stream",
     "text": [
      "{\n",
      "  \"document_tone\": {\n",
      "    \"tones\": [\n",
      "      {\n",
      "        \"score\": 1.0,\n",
      "        \"tone_id\": \"joy\",\n",
      "        \"tone_name\": \"Joy\"\n",
      "      }\n",
      "    ]\n",
      "  }\n",
      "}\n"
     ]
    }
   ],
   "source": [
    "# Tone Analyzer 범용 엔드포인트는 짧은 이메일 메시지부터 긴 문서에 이르기까지, 기록된 컨텐츠의 어조를 분석합니다.\n",
    "# 범용 엔드포인트는 tone_analyzer.tone()을 사용합니다.\n",
    "text = 'I am happy'\n",
    "\n",
    "tone_analysis = tone_analyzer.tone(\n",
    "    {'text': text},\n",
    "    content_type='application/json'\n",
    ").get_result()\n",
    "print(json.dumps(tone_analysis, indent=2))"
   ]
  },
  {
   "cell_type": "code",
   "execution_count": 4,
   "metadata": {},
   "outputs": [
    {
     "name": "stdout",
     "output_type": "stream",
     "text": [
      "{\n",
      "  \"utterances_tone\": [\n",
      "    {\n",
      "      \"utterance_id\": 0,\n",
      "      \"utterance_text\": \"Well, nothing is working :(\",\n",
      "      \"tones\": [\n",
      "        {\n",
      "          \"score\": 0.997795,\n",
      "          \"tone_id\": \"sad\",\n",
      "          \"tone_name\": \"Sad\"\n",
      "        }\n",
      "      ]\n",
      "    },\n",
      "    {\n",
      "      \"utterance_id\": 1,\n",
      "      \"utterance_text\": \"Sorry to hear that.\",\n",
      "      \"tones\": [\n",
      "        {\n",
      "          \"score\": 0.730982,\n",
      "          \"tone_id\": \"polite\",\n",
      "          \"tone_name\": \"Polite\"\n",
      "        },\n",
      "        {\n",
      "          \"score\": 0.672499,\n",
      "          \"tone_id\": \"sympathetic\",\n",
      "          \"tone_name\": \"Sympathetic\"\n",
      "        }\n",
      "      ]\n",
      "    }\n",
      "  ]\n",
      "}\n"
     ]
    }
   ],
   "source": [
    "# Tone Analyzer 고객 참여 엔드포인트는 고객 서비스 및 지원 대화의 어조를 분석합니다.\n",
    "# 고객 참여  엔드포인트는 tone_analyzer.tone_chat()을 사용합니다.\n",
    "utterances = [\n",
    "\n",
    "   \n",
    "    {\n",
    "        \"text\": \"Well, nothing is working :(\",\n",
    "        \"user\": \"customer\"\n",
    "    },\n",
    "\n",
    "    {\n",
    "        \"text\": \"Sorry to hear that.\",\n",
    "        \"user\": \"agent\"\n",
    "    }\n",
    "    \n",
    "]\n",
    "utterance_analyses = tone_analyzer.tone_chat(utterances).get_result()\n",
    "print(json.dumps(utterance_analyses, indent=2))"
   ]
  }
 ],
 "metadata": {
  "kernelspec": {
   "display_name": "Python 3.6",
   "language": "python",
   "name": "python3"
  },
  "language_info": {
   "codemirror_mode": {
    "name": "ipython",
    "version": 3
   },
   "file_extension": ".py",
   "mimetype": "text/x-python",
   "name": "python",
   "nbconvert_exporter": "python",
   "pygments_lexer": "ipython3",
   "version": "3.6.9"
  }
 },
 "nbformat": 4,
 "nbformat_minor": 1
}
